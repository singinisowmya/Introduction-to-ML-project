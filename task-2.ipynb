{
 "cells": [
  {
   "cell_type": "code",
   "execution_count": 1,
   "id": "fe13bb03",
   "metadata": {
    "_cell_guid": "b1076dfc-b9ad-4769-8c92-a6c4dae69d19",
    "_uuid": "8f2839f25d086af736a60e9eeb907d3b93b6e0e5",
    "execution": {
     "iopub.execute_input": "2021-07-17T14:30:40.532136Z",
     "iopub.status.busy": "2021-07-17T14:30:40.530911Z",
     "iopub.status.idle": "2021-07-17T14:30:40.551147Z",
     "shell.execute_reply": "2021-07-17T14:30:40.551872Z",
     "shell.execute_reply.started": "2021-07-17T12:41:30.328315Z"
    },
    "papermill": {
     "duration": 0.064346,
     "end_time": "2021-07-17T14:30:40.552355",
     "exception": false,
     "start_time": "2021-07-17T14:30:40.488009",
     "status": "completed"
    },
    "tags": []
   },
   "outputs": [
    {
     "name": "stdout",
     "output_type": "stream",
     "text": [
      "/kaggle/input/flight-take-off-data-jfk-airport/M1_final.csv\n"
     ]
    }
   ],
   "source": [
    "# This Python 3 environment comes with many helpful analytics libraries installed\n",
    "# It is defined by the kaggle/python Docker image: https://github.com/kaggle/docker-python\n",
    "# For example, here's several helpful packages to load\n",
    "\n",
    "import numpy as np # linear algebra\n",
    "import pandas as pd # data processing, CSV file I/O (e.g. pd.read_csv)\n",
    "\n",
    "# Input data files are available in the read-only \"../input/\" directory\n",
    "# For example, running this (by clicking run or pressing Shift+Enter) will list all files under the input directory\n",
    "\n",
    "import os\n",
    "for dirname, _, filenames in os.walk('/kaggle/input'):\n",
    "    for filename in filenames:\n",
    "        print(os.path.join(dirname, filename))\n",
    "\n",
    "# You can write up to 20GB to the current directory (/kaggle/working/) that gets preserved as output when you create a version using \"Save & Run All\" \n",
    "# You can also write temporary files to /kaggle/temp/, but they won't be saved outside of the current session"
   ]
  },
  {
   "cell_type": "markdown",
   "id": "7b6913af",
   "metadata": {
    "papermill": {
     "duration": 0.037932,
     "end_time": "2021-07-17T14:30:40.629973",
     "exception": false,
     "start_time": "2021-07-17T14:30:40.592041",
     "status": "completed"
    },
    "tags": []
   },
   "source": [
    "## Reading Data"
   ]
  },
  {
   "cell_type": "code",
   "execution_count": 2,
   "id": "ec21446e",
   "metadata": {
    "execution": {
     "iopub.execute_input": "2021-07-17T14:30:40.710990Z",
     "iopub.status.busy": "2021-07-17T14:30:40.710322Z",
     "iopub.status.idle": "2021-07-17T14:30:40.980925Z",
     "shell.execute_reply": "2021-07-17T14:30:40.980006Z",
     "shell.execute_reply.started": "2021-07-17T12:41:31.460518Z"
    },
    "papermill": {
     "duration": 0.313097,
     "end_time": "2021-07-17T14:30:40.981145",
     "exception": false,
     "start_time": "2021-07-17T14:30:40.668048",
     "status": "completed"
    },
    "tags": []
   },
   "outputs": [
    {
     "name": "stdout",
     "output_type": "stream",
     "text": [
      "       MONTH  DAY_OF_MONTH  DAY_OF_WEEK OP_UNIQUE_CARRIER TAIL_NUM DEST  \\\n",
      "0         11             1            5                B6   N828JB  CHS   \n",
      "1         11             1            5                B6   N992JB  LAX   \n",
      "2         11             1            5                B6   N959JB  FLL   \n",
      "3         11             1            5                B6   N999JQ  MCO   \n",
      "4         11             1            5                DL   N880DN  ATL   \n",
      "...      ...           ...          ...               ...      ...  ...   \n",
      "28815      1            31            5                B6   N216JB  ORH   \n",
      "28816      1            31            5                AA   N104NN  BOS   \n",
      "28817      1            31            5                AS   N581AS  SEA   \n",
      "28818      1            31            5                B6   N957JB  SJU   \n",
      "28819      1            31            5                B6   N958JB  BQN   \n",
      "\n",
      "       DEP_DELAY  CRS_ELAPSED_TIME  DISTANCE  CRS_DEP_M  ...  Dew Point  \\\n",
      "0             -1               124       636        324  ...         34   \n",
      "1             -7               371      2475        340  ...         34   \n",
      "2             40               181      1069        301  ...         34   \n",
      "3             -2               168       944        345  ...         34   \n",
      "4             -4               139       760        360  ...         32   \n",
      "...          ...               ...       ...        ...  ...        ...   \n",
      "28815          2                57       150       1370  ...         38   \n",
      "28816          2                75       187       1390  ...         38   \n",
      "28817        283               392      2422       1125  ...         38   \n",
      "28818          5               224      1598       1417  ...         38   \n",
      "28819         -1               225      1576       1439  ...         38   \n",
      "\n",
      "       Humidity  Wind Wind Speed  Wind Gust Pressure     Condition  sch_dep  \\\n",
      "0            58     W         25         38    29.86  Fair / Windy        9   \n",
      "1            58     W         25         38    29.86  Fair / Windy        9   \n",
      "2            58     W         25         38    29.86  Fair / Windy        9   \n",
      "3            58     W         25         38    29.86  Fair / Windy        9   \n",
      "4            58     W         24         35    29.91  Fair / Windy        9   \n",
      "...         ...   ...        ...        ...      ...           ...      ...   \n",
      "28815        96     N          6          0    30.18        Cloudy       20   \n",
      "28816        96     N          6          0    30.18        Cloudy       19   \n",
      "28817        96     N          6          0    30.18        Cloudy       19   \n",
      "28818        96     N          6          0    30.18        Cloudy       19   \n",
      "28819        96     N          6          0    30.18        Cloudy       19   \n",
      "\n",
      "       sch_arr TAXI_OUT  \n",
      "0           17       14  \n",
      "1           17       15  \n",
      "2           17       22  \n",
      "3           17       12  \n",
      "4           17       13  \n",
      "...        ...      ...  \n",
      "28815       32       19  \n",
      "28816       23       22  \n",
      "28817       23       21  \n",
      "28818       23       13  \n",
      "28819       23       15  \n",
      "\n",
      "[28820 rows x 23 columns]\n"
     ]
    }
   ],
   "source": [
    "file=\"../input/flight-take-off-data-jfk-airport/M1_final.csv\"\n",
    "data=pd.read_csv(file)\n",
    "print(data)"
   ]
  },
  {
   "cell_type": "code",
   "execution_count": 3,
   "id": "a49eb5c8",
   "metadata": {
    "execution": {
     "iopub.execute_input": "2021-07-17T14:30:41.075619Z",
     "iopub.status.busy": "2021-07-17T14:30:41.074887Z",
     "iopub.status.idle": "2021-07-17T14:30:41.120030Z",
     "shell.execute_reply": "2021-07-17T14:30:41.120535Z",
     "shell.execute_reply.started": "2021-07-17T12:41:47.338451Z"
    },
    "papermill": {
     "duration": 0.097998,
     "end_time": "2021-07-17T14:30:41.120720",
     "exception": false,
     "start_time": "2021-07-17T14:30:41.022722",
     "status": "completed"
    },
    "tags": []
   },
   "outputs": [
    {
     "data": {
      "text/html": [
       "<div>\n",
       "<style scoped>\n",
       "    .dataframe tbody tr th:only-of-type {\n",
       "        vertical-align: middle;\n",
       "    }\n",
       "\n",
       "    .dataframe tbody tr th {\n",
       "        vertical-align: top;\n",
       "    }\n",
       "\n",
       "    .dataframe thead th {\n",
       "        text-align: right;\n",
       "    }\n",
       "</style>\n",
       "<table border=\"1\" class=\"dataframe\">\n",
       "  <thead>\n",
       "    <tr style=\"text-align: right;\">\n",
       "      <th></th>\n",
       "      <th>MONTH</th>\n",
       "      <th>DAY_OF_MONTH</th>\n",
       "      <th>DAY_OF_WEEK</th>\n",
       "      <th>OP_UNIQUE_CARRIER</th>\n",
       "      <th>TAIL_NUM</th>\n",
       "      <th>DEST</th>\n",
       "      <th>DEP_DELAY</th>\n",
       "      <th>CRS_ELAPSED_TIME</th>\n",
       "      <th>DISTANCE</th>\n",
       "      <th>CRS_DEP_M</th>\n",
       "      <th>...</th>\n",
       "      <th>Dew Point</th>\n",
       "      <th>Humidity</th>\n",
       "      <th>Wind</th>\n",
       "      <th>Wind Speed</th>\n",
       "      <th>Wind Gust</th>\n",
       "      <th>Pressure</th>\n",
       "      <th>Condition</th>\n",
       "      <th>sch_dep</th>\n",
       "      <th>sch_arr</th>\n",
       "      <th>TAXI_OUT</th>\n",
       "    </tr>\n",
       "  </thead>\n",
       "  <tbody>\n",
       "    <tr>\n",
       "      <th>0</th>\n",
       "      <td>11</td>\n",
       "      <td>1</td>\n",
       "      <td>5</td>\n",
       "      <td>B6</td>\n",
       "      <td>N828JB</td>\n",
       "      <td>CHS</td>\n",
       "      <td>-1</td>\n",
       "      <td>124</td>\n",
       "      <td>636</td>\n",
       "      <td>324</td>\n",
       "      <td>...</td>\n",
       "      <td>34</td>\n",
       "      <td>58</td>\n",
       "      <td>W</td>\n",
       "      <td>25</td>\n",
       "      <td>38</td>\n",
       "      <td>29.86</td>\n",
       "      <td>Fair / Windy</td>\n",
       "      <td>9</td>\n",
       "      <td>17</td>\n",
       "      <td>14</td>\n",
       "    </tr>\n",
       "    <tr>\n",
       "      <th>1</th>\n",
       "      <td>11</td>\n",
       "      <td>1</td>\n",
       "      <td>5</td>\n",
       "      <td>B6</td>\n",
       "      <td>N992JB</td>\n",
       "      <td>LAX</td>\n",
       "      <td>-7</td>\n",
       "      <td>371</td>\n",
       "      <td>2475</td>\n",
       "      <td>340</td>\n",
       "      <td>...</td>\n",
       "      <td>34</td>\n",
       "      <td>58</td>\n",
       "      <td>W</td>\n",
       "      <td>25</td>\n",
       "      <td>38</td>\n",
       "      <td>29.86</td>\n",
       "      <td>Fair / Windy</td>\n",
       "      <td>9</td>\n",
       "      <td>17</td>\n",
       "      <td>15</td>\n",
       "    </tr>\n",
       "    <tr>\n",
       "      <th>2</th>\n",
       "      <td>11</td>\n",
       "      <td>1</td>\n",
       "      <td>5</td>\n",
       "      <td>B6</td>\n",
       "      <td>N959JB</td>\n",
       "      <td>FLL</td>\n",
       "      <td>40</td>\n",
       "      <td>181</td>\n",
       "      <td>1069</td>\n",
       "      <td>301</td>\n",
       "      <td>...</td>\n",
       "      <td>34</td>\n",
       "      <td>58</td>\n",
       "      <td>W</td>\n",
       "      <td>25</td>\n",
       "      <td>38</td>\n",
       "      <td>29.86</td>\n",
       "      <td>Fair / Windy</td>\n",
       "      <td>9</td>\n",
       "      <td>17</td>\n",
       "      <td>22</td>\n",
       "    </tr>\n",
       "    <tr>\n",
       "      <th>3</th>\n",
       "      <td>11</td>\n",
       "      <td>1</td>\n",
       "      <td>5</td>\n",
       "      <td>B6</td>\n",
       "      <td>N999JQ</td>\n",
       "      <td>MCO</td>\n",
       "      <td>-2</td>\n",
       "      <td>168</td>\n",
       "      <td>944</td>\n",
       "      <td>345</td>\n",
       "      <td>...</td>\n",
       "      <td>34</td>\n",
       "      <td>58</td>\n",
       "      <td>W</td>\n",
       "      <td>25</td>\n",
       "      <td>38</td>\n",
       "      <td>29.86</td>\n",
       "      <td>Fair / Windy</td>\n",
       "      <td>9</td>\n",
       "      <td>17</td>\n",
       "      <td>12</td>\n",
       "    </tr>\n",
       "    <tr>\n",
       "      <th>4</th>\n",
       "      <td>11</td>\n",
       "      <td>1</td>\n",
       "      <td>5</td>\n",
       "      <td>DL</td>\n",
       "      <td>N880DN</td>\n",
       "      <td>ATL</td>\n",
       "      <td>-4</td>\n",
       "      <td>139</td>\n",
       "      <td>760</td>\n",
       "      <td>360</td>\n",
       "      <td>...</td>\n",
       "      <td>32</td>\n",
       "      <td>58</td>\n",
       "      <td>W</td>\n",
       "      <td>24</td>\n",
       "      <td>35</td>\n",
       "      <td>29.91</td>\n",
       "      <td>Fair / Windy</td>\n",
       "      <td>9</td>\n",
       "      <td>17</td>\n",
       "      <td>13</td>\n",
       "    </tr>\n",
       "  </tbody>\n",
       "</table>\n",
       "<p>5 rows × 23 columns</p>\n",
       "</div>"
      ],
      "text/plain": [
       "   MONTH  DAY_OF_MONTH  DAY_OF_WEEK OP_UNIQUE_CARRIER TAIL_NUM DEST  \\\n",
       "0     11             1            5                B6   N828JB  CHS   \n",
       "1     11             1            5                B6   N992JB  LAX   \n",
       "2     11             1            5                B6   N959JB  FLL   \n",
       "3     11             1            5                B6   N999JQ  MCO   \n",
       "4     11             1            5                DL   N880DN  ATL   \n",
       "\n",
       "   DEP_DELAY  CRS_ELAPSED_TIME  DISTANCE  CRS_DEP_M  ...  Dew Point  Humidity  \\\n",
       "0         -1               124       636        324  ...         34        58   \n",
       "1         -7               371      2475        340  ...         34        58   \n",
       "2         40               181      1069        301  ...         34        58   \n",
       "3         -2               168       944        345  ...         34        58   \n",
       "4         -4               139       760        360  ...         32        58   \n",
       "\n",
       "   Wind Wind Speed  Wind Gust Pressure     Condition  sch_dep  sch_arr  \\\n",
       "0     W         25         38    29.86  Fair / Windy        9       17   \n",
       "1     W         25         38    29.86  Fair / Windy        9       17   \n",
       "2     W         25         38    29.86  Fair / Windy        9       17   \n",
       "3     W         25         38    29.86  Fair / Windy        9       17   \n",
       "4     W         24         35    29.91  Fair / Windy        9       17   \n",
       "\n",
       "  TAXI_OUT  \n",
       "0       14  \n",
       "1       15  \n",
       "2       22  \n",
       "3       12  \n",
       "4       13  \n",
       "\n",
       "[5 rows x 23 columns]"
      ]
     },
     "execution_count": 3,
     "metadata": {},
     "output_type": "execute_result"
    }
   ],
   "source": [
    "data.head()"
   ]
  },
  {
   "cell_type": "code",
   "execution_count": 4,
   "id": "6c8ab355",
   "metadata": {
    "execution": {
     "iopub.execute_input": "2021-07-17T14:30:41.219382Z",
     "iopub.status.busy": "2021-07-17T14:30:41.218419Z",
     "iopub.status.idle": "2021-07-17T14:30:41.222701Z",
     "shell.execute_reply": "2021-07-17T14:30:41.221941Z",
     "shell.execute_reply.started": "2021-07-17T12:41:51.382948Z"
    },
    "papermill": {
     "duration": 0.062435,
     "end_time": "2021-07-17T14:30:41.222894",
     "exception": false,
     "start_time": "2021-07-17T14:30:41.160459",
     "status": "completed"
    },
    "tags": []
   },
   "outputs": [
    {
     "name": "stdout",
     "output_type": "stream",
     "text": [
      "(28820, 23)\n"
     ]
    }
   ],
   "source": [
    "print(data.shape)\n",
    "data.drop(\"TAIL_NUM\",axis=1,inplace=True)"
   ]
  },
  {
   "cell_type": "code",
   "execution_count": 5,
   "id": "f585a3b5",
   "metadata": {
    "execution": {
     "iopub.execute_input": "2021-07-17T14:30:41.313447Z",
     "iopub.status.busy": "2021-07-17T14:30:41.312786Z",
     "iopub.status.idle": "2021-07-17T14:30:41.317765Z",
     "shell.execute_reply": "2021-07-17T14:30:41.317179Z",
     "shell.execute_reply.started": "2021-07-17T12:41:55.682292Z"
    },
    "papermill": {
     "duration": 0.049282,
     "end_time": "2021-07-17T14:30:41.317911",
     "exception": false,
     "start_time": "2021-07-17T14:30:41.268629",
     "status": "completed"
    },
    "tags": []
   },
   "outputs": [
    {
     "name": "stdout",
     "output_type": "stream",
     "text": [
      "(28820, 22)\n"
     ]
    }
   ],
   "source": [
    "print(data.shape)"
   ]
  },
  {
   "cell_type": "code",
   "execution_count": 6,
   "id": "dc5642fd",
   "metadata": {
    "execution": {
     "iopub.execute_input": "2021-07-17T14:30:41.418044Z",
     "iopub.status.busy": "2021-07-17T14:30:41.416959Z",
     "iopub.status.idle": "2021-07-17T14:30:42.387535Z",
     "shell.execute_reply": "2021-07-17T14:30:42.388040Z",
     "shell.execute_reply.started": "2021-07-17T12:41:57.334578Z"
    },
    "papermill": {
     "duration": 1.022798,
     "end_time": "2021-07-17T14:30:42.388253",
     "exception": false,
     "start_time": "2021-07-17T14:30:41.365455",
     "status": "completed"
    },
    "tags": []
   },
   "outputs": [],
   "source": [
    "import matplotlib.pyplot as plt\n",
    "import seaborn as sns\n",
    "%matplotlib inline"
   ]
  },
  {
   "cell_type": "markdown",
   "id": "bd4d1b5d",
   "metadata": {
    "papermill": {
     "duration": 0.038887,
     "end_time": "2021-07-17T14:30:42.466505",
     "exception": false,
     "start_time": "2021-07-17T14:30:42.427618",
     "status": "completed"
    },
    "tags": []
   },
   "source": [
    "## Seeing Correlation"
   ]
  },
  {
   "cell_type": "code",
   "execution_count": 7,
   "id": "4c44063c",
   "metadata": {
    "execution": {
     "iopub.execute_input": "2021-07-17T14:30:42.553510Z",
     "iopub.status.busy": "2021-07-17T14:30:42.552808Z",
     "iopub.status.idle": "2021-07-17T14:30:44.730815Z",
     "shell.execute_reply": "2021-07-17T14:30:44.731363Z",
     "shell.execute_reply.started": "2021-07-17T12:33:49.737051Z"
    },
    "papermill": {
     "duration": 2.224641,
     "end_time": "2021-07-17T14:30:44.731588",
     "exception": false,
     "start_time": "2021-07-17T14:30:42.506947",
     "status": "completed"
    },
    "tags": []
   },
   "outputs": [
    {
     "data": {
      "text/plain": [
       "<AxesSubplot:>"
      ]
     },
     "execution_count": 7,
     "metadata": {},
     "output_type": "execute_result"
    },
    {
     "data": {
      "image/png": "[encoded data removed]",
      "text/plain": [
       "<Figure size 1440x1440 with 2 Axes>"
      ]
     },
     "metadata": {
      "needs_background": "light"
     },
     "output_type": "display_data"
    }
   ],
   "source": [
    "plt.figure(figsize=(20,20))\n",
    "sns.heatmap(data.corr('spearman'),cmap='YlGnBu',annot = True)"
   ]
  },
  {
   "cell_type": "code",
   "execution_count": 8,
   "id": "3172a965",
   "metadata": {
    "execution": {
     "iopub.execute_input": "2021-07-17T14:30:44.834691Z",
     "iopub.status.busy": "2021-07-17T14:30:44.832434Z",
     "iopub.status.idle": "2021-07-17T14:30:45.125049Z",
     "shell.execute_reply": "2021-07-17T14:30:45.125532Z",
     "shell.execute_reply.started": "2021-07-17T12:42:02.264528Z"
    },
    "papermill": {
     "duration": 0.347681,
     "end_time": "2021-07-17T14:30:45.125726",
     "exception": false,
     "start_time": "2021-07-17T14:30:44.778045",
     "status": "completed"
    },
    "tags": []
   },
   "outputs": [
    {
     "data": {
      "text/plain": [
       "<AxesSubplot:title={'center':'correlation with TAXI_OUT'}>"
      ]
     },
     "execution_count": 8,
     "metadata": {},
     "output_type": "execute_result"
    },
    {
     "data": {
      "image/png": "[encoded data removed]",
      "text/plain": [
       "<Figure size 432x288 with 1 Axes>"
      ]
     },
     "metadata": {
      "needs_background": "light"
     },
     "output_type": "display_data"
    }
   ],
   "source": [
    "data.drop(['TAXI_OUT'],axis = 1).corrwith(data['TAXI_OUT']).plot(kind = 'bar',color=\"green\", title = 'correlation with TAXI_OUT')"
   ]
  },
  {
   "cell_type": "markdown",
   "id": "c71b2101",
   "metadata": {
    "papermill": {
     "duration": 0.046537,
     "end_time": "2021-07-17T14:30:45.219699",
     "exception": false,
     "start_time": "2021-07-17T14:30:45.173162",
     "status": "completed"
    },
    "tags": []
   },
   "source": [
    "## Preprocessing"
   ]
  },
  {
   "cell_type": "code",
   "execution_count": 9,
   "id": "7b7084af",
   "metadata": {
    "execution": {
     "iopub.execute_input": "2021-07-17T14:30:45.320742Z",
     "iopub.status.busy": "2021-07-17T14:30:45.320024Z",
     "iopub.status.idle": "2021-07-17T14:30:45.509101Z",
     "shell.execute_reply": "2021-07-17T14:30:45.508448Z",
     "shell.execute_reply.started": "2021-07-17T12:59:03.518121Z"
    },
    "papermill": {
     "duration": 0.242499,
     "end_time": "2021-07-17T14:30:45.509240",
     "exception": false,
     "start_time": "2021-07-17T14:30:45.266741",
     "status": "completed"
    },
    "tags": []
   },
   "outputs": [],
   "source": [
    "from sklearn import preprocessing\n",
    "label_encoder = preprocessing.LabelEncoder()\n",
    "data.OP_UNIQUE_CARRIER=label_encoder.fit_transform(data.OP_UNIQUE_CARRIER)\n",
    "data[\"DEST\"]= label_encoder.fit_transform(data[\"DEST\"])\n",
    "data[\"Wind\"]= label_encoder.fit_transform(data[\"Wind\"].astype(str))\n",
    "data[\"Condition\"]= label_encoder.fit_transform(data[\"Condition\"])\n",
    "data[\"Dew Point\"]= label_encoder.fit_transform(data[\"Dew Point\"])"
   ]
  },
  {
   "cell_type": "code",
   "execution_count": 10,
   "id": "f1da3d1c",
   "metadata": {
    "execution": {
     "iopub.execute_input": "2021-07-17T14:30:45.610717Z",
     "iopub.status.busy": "2021-07-17T14:30:45.609630Z",
     "iopub.status.idle": "2021-07-17T14:30:45.636500Z",
     "shell.execute_reply": "2021-07-17T14:30:45.636006Z",
     "shell.execute_reply.started": "2021-07-17T12:59:05.098267Z"
    },
    "papermill": {
     "duration": 0.080391,
     "end_time": "2021-07-17T14:30:45.636638",
     "exception": false,
     "start_time": "2021-07-17T14:30:45.556247",
     "status": "completed"
    },
    "tags": []
   },
   "outputs": [
    {
     "data": {
      "text/html": [
       "<div>\n",
       "<style scoped>\n",
       "    .dataframe tbody tr th:only-of-type {\n",
       "        vertical-align: middle;\n",
       "    }\n",
       "\n",
       "    .dataframe tbody tr th {\n",
       "        vertical-align: top;\n",
       "    }\n",
       "\n",
       "    .dataframe thead th {\n",
       "        text-align: right;\n",
       "    }\n",
       "</style>\n",
       "<table border=\"1\" class=\"dataframe\">\n",
       "  <thead>\n",
       "    <tr style=\"text-align: right;\">\n",
       "      <th></th>\n",
       "      <th>MONTH</th>\n",
       "      <th>DAY_OF_MONTH</th>\n",
       "      <th>DAY_OF_WEEK</th>\n",
       "      <th>OP_UNIQUE_CARRIER</th>\n",
       "      <th>DEST</th>\n",
       "      <th>DEP_DELAY</th>\n",
       "      <th>CRS_ELAPSED_TIME</th>\n",
       "      <th>DISTANCE</th>\n",
       "      <th>CRS_DEP_M</th>\n",
       "      <th>DEP_TIME_M</th>\n",
       "      <th>...</th>\n",
       "      <th>Temperature</th>\n",
       "      <th>Dew Point</th>\n",
       "      <th>Humidity</th>\n",
       "      <th>Wind</th>\n",
       "      <th>Wind Speed</th>\n",
       "      <th>Wind Gust</th>\n",
       "      <th>Pressure</th>\n",
       "      <th>Condition</th>\n",
       "      <th>sch_dep</th>\n",
       "      <th>sch_arr</th>\n",
       "    </tr>\n",
       "  </thead>\n",
       "  <tbody>\n",
       "    <tr>\n",
       "      <th>0</th>\n",
       "      <td>11</td>\n",
       "      <td>1</td>\n",
       "      <td>5</td>\n",
       "      <td>3</td>\n",
       "      <td>10</td>\n",
       "      <td>-1</td>\n",
       "      <td>124</td>\n",
       "      <td>636</td>\n",
       "      <td>324</td>\n",
       "      <td>323</td>\n",
       "      <td>...</td>\n",
       "      <td>48</td>\n",
       "      <td>30</td>\n",
       "      <td>58</td>\n",
       "      <td>15</td>\n",
       "      <td>25</td>\n",
       "      <td>38</td>\n",
       "      <td>29.86</td>\n",
       "      <td>4</td>\n",
       "      <td>9</td>\n",
       "      <td>17</td>\n",
       "    </tr>\n",
       "    <tr>\n",
       "      <th>1</th>\n",
       "      <td>11</td>\n",
       "      <td>1</td>\n",
       "      <td>5</td>\n",
       "      <td>3</td>\n",
       "      <td>28</td>\n",
       "      <td>-7</td>\n",
       "      <td>371</td>\n",
       "      <td>2475</td>\n",
       "      <td>340</td>\n",
       "      <td>333</td>\n",
       "      <td>...</td>\n",
       "      <td>48</td>\n",
       "      <td>30</td>\n",
       "      <td>58</td>\n",
       "      <td>15</td>\n",
       "      <td>25</td>\n",
       "      <td>38</td>\n",
       "      <td>29.86</td>\n",
       "      <td>4</td>\n",
       "      <td>9</td>\n",
       "      <td>17</td>\n",
       "    </tr>\n",
       "    <tr>\n",
       "      <th>2</th>\n",
       "      <td>11</td>\n",
       "      <td>1</td>\n",
       "      <td>5</td>\n",
       "      <td>3</td>\n",
       "      <td>20</td>\n",
       "      <td>40</td>\n",
       "      <td>181</td>\n",
       "      <td>1069</td>\n",
       "      <td>301</td>\n",
       "      <td>341</td>\n",
       "      <td>...</td>\n",
       "      <td>48</td>\n",
       "      <td>30</td>\n",
       "      <td>58</td>\n",
       "      <td>15</td>\n",
       "      <td>25</td>\n",
       "      <td>38</td>\n",
       "      <td>29.86</td>\n",
       "      <td>4</td>\n",
       "      <td>9</td>\n",
       "      <td>17</td>\n",
       "    </tr>\n",
       "    <tr>\n",
       "      <th>3</th>\n",
       "      <td>11</td>\n",
       "      <td>1</td>\n",
       "      <td>5</td>\n",
       "      <td>3</td>\n",
       "      <td>30</td>\n",
       "      <td>-2</td>\n",
       "      <td>168</td>\n",
       "      <td>944</td>\n",
       "      <td>345</td>\n",
       "      <td>343</td>\n",
       "      <td>...</td>\n",
       "      <td>48</td>\n",
       "      <td>30</td>\n",
       "      <td>58</td>\n",
       "      <td>15</td>\n",
       "      <td>25</td>\n",
       "      <td>38</td>\n",
       "      <td>29.86</td>\n",
       "      <td>4</td>\n",
       "      <td>9</td>\n",
       "      <td>17</td>\n",
       "    </tr>\n",
       "    <tr>\n",
       "      <th>4</th>\n",
       "      <td>11</td>\n",
       "      <td>1</td>\n",
       "      <td>5</td>\n",
       "      <td>4</td>\n",
       "      <td>1</td>\n",
       "      <td>-4</td>\n",
       "      <td>139</td>\n",
       "      <td>760</td>\n",
       "      <td>360</td>\n",
       "      <td>356</td>\n",
       "      <td>...</td>\n",
       "      <td>46</td>\n",
       "      <td>28</td>\n",
       "      <td>58</td>\n",
       "      <td>15</td>\n",
       "      <td>24</td>\n",
       "      <td>35</td>\n",
       "      <td>29.91</td>\n",
       "      <td>4</td>\n",
       "      <td>9</td>\n",
       "      <td>17</td>\n",
       "    </tr>\n",
       "  </tbody>\n",
       "</table>\n",
       "<p>5 rows × 21 columns</p>\n",
       "</div>"
      ],
      "text/plain": [
       "   MONTH  DAY_OF_MONTH  DAY_OF_WEEK  OP_UNIQUE_CARRIER  DEST  DEP_DELAY  \\\n",
       "0     11             1            5                  3    10         -1   \n",
       "1     11             1            5                  3    28         -7   \n",
       "2     11             1            5                  3    20         40   \n",
       "3     11             1            5                  3    30         -2   \n",
       "4     11             1            5                  4     1         -4   \n",
       "\n",
       "   CRS_ELAPSED_TIME  DISTANCE  CRS_DEP_M  DEP_TIME_M  ...  Temperature  \\\n",
       "0               124       636        324         323  ...           48   \n",
       "1               371      2475        340         333  ...           48   \n",
       "2               181      1069        301         341  ...           48   \n",
       "3               168       944        345         343  ...           48   \n",
       "4               139       760        360         356  ...           46   \n",
       "\n",
       "   Dew Point  Humidity  Wind  Wind Speed  Wind Gust  Pressure  Condition  \\\n",
       "0         30        58    15          25         38     29.86          4   \n",
       "1         30        58    15          25         38     29.86          4   \n",
       "2         30        58    15          25         38     29.86          4   \n",
       "3         30        58    15          25         38     29.86          4   \n",
       "4         28        58    15          24         35     29.91          4   \n",
       "\n",
       "   sch_dep  sch_arr  \n",
       "0        9       17  \n",
       "1        9       17  \n",
       "2        9       17  \n",
       "3        9       17  \n",
       "4        9       17  \n",
       "\n",
       "[5 rows x 21 columns]"
      ]
     },
     "execution_count": 10,
     "metadata": {},
     "output_type": "execute_result"
    }
   ],
   "source": [
    "x=data.drop(\"TAXI_OUT\",axis=1)\n",
    "x.head()"
   ]
  },
  {
   "cell_type": "code",
   "execution_count": 11,
   "id": "ce996060",
   "metadata": {
    "execution": {
     "iopub.execute_input": "2021-07-17T14:30:45.737212Z",
     "iopub.status.busy": "2021-07-17T14:30:45.736384Z",
     "iopub.status.idle": "2021-07-17T14:30:45.741294Z",
     "shell.execute_reply": "2021-07-17T14:30:45.740681Z",
     "shell.execute_reply.started": "2021-07-17T12:59:09.013878Z"
    },
    "papermill": {
     "duration": 0.057786,
     "end_time": "2021-07-17T14:30:45.741451",
     "exception": false,
     "start_time": "2021-07-17T14:30:45.683665",
     "status": "completed"
    },
    "tags": []
   },
   "outputs": [
    {
     "data": {
      "text/plain": [
       "(28820, 21)"
      ]
     },
     "execution_count": 11,
     "metadata": {},
     "output_type": "execute_result"
    }
   ],
   "source": [
    "x.shape"
   ]
  },
  {
   "cell_type": "code",
   "execution_count": 12,
   "id": "e1d3c23a",
   "metadata": {
    "execution": {
     "iopub.execute_input": "2021-07-17T14:30:45.844298Z",
     "iopub.status.busy": "2021-07-17T14:30:45.843452Z",
     "iopub.status.idle": "2021-07-17T14:30:45.848344Z",
     "shell.execute_reply": "2021-07-17T14:30:45.847673Z",
     "shell.execute_reply.started": "2021-07-17T12:59:10.714319Z"
    },
    "papermill": {
     "duration": 0.059243,
     "end_time": "2021-07-17T14:30:45.848492",
     "exception": false,
     "start_time": "2021-07-17T14:30:45.789249",
     "status": "completed"
    },
    "tags": []
   },
   "outputs": [
    {
     "data": {
      "text/plain": [
       "(28820,)"
      ]
     },
     "execution_count": 12,
     "metadata": {},
     "output_type": "execute_result"
    }
   ],
   "source": [
    "y=data.TAXI_OUT\n",
    "y.shape"
   ]
  },
  {
   "cell_type": "markdown",
   "id": "17a259e2",
   "metadata": {
    "papermill": {
     "duration": 0.047813,
     "end_time": "2021-07-17T14:30:45.944511",
     "exception": false,
     "start_time": "2021-07-17T14:30:45.896698",
     "status": "completed"
    },
    "tags": []
   },
   "source": [
    "## Test Train Splitting"
   ]
  },
  {
   "cell_type": "code",
   "execution_count": 13,
   "id": "4357430b",
   "metadata": {
    "execution": {
     "iopub.execute_input": "2021-07-17T14:30:46.047705Z",
     "iopub.status.busy": "2021-07-17T14:30:46.046977Z",
     "iopub.status.idle": "2021-07-17T14:30:46.113854Z",
     "shell.execute_reply": "2021-07-17T14:30:46.114332Z",
     "shell.execute_reply.started": "2021-07-17T12:59:13.899155Z"
    },
    "papermill": {
     "duration": 0.120729,
     "end_time": "2021-07-17T14:30:46.114511",
     "exception": false,
     "start_time": "2021-07-17T14:30:45.993782",
     "status": "completed"
    },
    "tags": []
   },
   "outputs": [],
   "source": [
    "from sklearn.model_selection import train_test_split\n",
    "x_train,x_test,y_train,y_test = train_test_split(x,y,test_size = 0.1)"
   ]
  },
  {
   "cell_type": "code",
   "execution_count": 14,
   "id": "e632fc21",
   "metadata": {
    "execution": {
     "iopub.execute_input": "2021-07-17T14:30:46.214273Z",
     "iopub.status.busy": "2021-07-17T14:30:46.213374Z",
     "iopub.status.idle": "2021-07-17T14:30:46.220101Z",
     "shell.execute_reply": "2021-07-17T14:30:46.220557Z",
     "shell.execute_reply.started": "2021-07-17T12:59:15.731836Z"
    },
    "papermill": {
     "duration": 0.058172,
     "end_time": "2021-07-17T14:30:46.220722",
     "exception": false,
     "start_time": "2021-07-17T14:30:46.162550",
     "status": "completed"
    },
    "tags": []
   },
   "outputs": [
    {
     "name": "stdout",
     "output_type": "stream",
     "text": [
      "(25938, 21)\n",
      "(25938,)\n",
      "(2882, 21)\n",
      "(2882,)\n"
     ]
    }
   ],
   "source": [
    "print(x_train.shape)\n",
    "print(y_train.shape)\n",
    "print(x_test.shape)\n",
    "print(y_test.shape)\n"
   ]
  },
  {
   "cell_type": "markdown",
   "id": "0d689cb9",
   "metadata": {
    "papermill": {
     "duration": 0.048087,
     "end_time": "2021-07-17T14:30:46.317102",
     "exception": false,
     "start_time": "2021-07-17T14:30:46.269015",
     "status": "completed"
    },
    "tags": []
   },
   "source": [
    "## Linear Regression Model"
   ]
  },
  {
   "cell_type": "code",
   "execution_count": 15,
   "id": "eaf98eda",
   "metadata": {
    "execution": {
     "iopub.execute_input": "2021-07-17T14:30:46.418485Z",
     "iopub.status.busy": "2021-07-17T14:30:46.417806Z",
     "iopub.status.idle": "2021-07-17T14:30:46.737435Z",
     "shell.execute_reply": "2021-07-17T14:30:46.739417Z",
     "shell.execute_reply.started": "2021-07-17T13:03:19.503916Z"
    },
    "papermill": {
     "duration": 0.37364,
     "end_time": "2021-07-17T14:30:46.739726",
     "exception": false,
     "start_time": "2021-07-17T14:30:46.366086",
     "status": "completed"
    },
    "tags": []
   },
   "outputs": [
    {
     "data": {
      "text/plain": [
       "6.772225563946721"
      ]
     },
     "execution_count": 15,
     "metadata": {},
     "output_type": "execute_result"
    }
   ],
   "source": [
    "from sklearn.linear_model import LinearRegression\n",
    "from sklearn.metrics import mean_squared_error\n",
    "linr=LinearRegression()\n",
    "linr.fit(x_train,y_train)\n",
    "prediction=linr.predict(x_test)\n",
    "linerror=mean_squared_error(y_test,prediction,squared=False)\n",
    "linerror"
   ]
  },
  {
   "cell_type": "markdown",
   "id": "92afc4b7",
   "metadata": {
    "papermill": {
     "duration": 0.058852,
     "end_time": "2021-07-17T14:30:46.886602",
     "exception": false,
     "start_time": "2021-07-17T14:30:46.827750",
     "status": "completed"
    },
    "tags": []
   },
   "source": [
    "## Ridge Regression Model"
   ]
  },
  {
   "cell_type": "code",
   "execution_count": 16,
   "id": "9ab335e4",
   "metadata": {
    "execution": {
     "iopub.execute_input": "2021-07-17T14:30:46.995927Z",
     "iopub.status.busy": "2021-07-17T14:30:46.994711Z",
     "iopub.status.idle": "2021-07-17T14:30:47.028080Z",
     "shell.execute_reply": "2021-07-17T14:30:47.029007Z",
     "shell.execute_reply.started": "2021-07-17T13:06:34.338371Z"
    },
    "papermill": {
     "duration": 0.093094,
     "end_time": "2021-07-17T14:30:47.029328",
     "exception": false,
     "start_time": "2021-07-17T14:30:46.936234",
     "status": "completed"
    },
    "tags": []
   },
   "outputs": [
    {
     "data": {
      "text/plain": [
       "6.860245261741932"
      ]
     },
     "execution_count": 16,
     "metadata": {},
     "output_type": "execute_result"
    }
   ],
   "source": [
    "from sklearn.linear_model import Ridge\n",
    "ridgr=Ridge(alpha=1,normalize=True)\n",
    "ridgr.fit(x_train,y_train)\n",
    "predictionr=ridgr.predict(x_test)\n",
    "ridgerror=mean_squared_error(y_test,predictionr,squared=False)\n",
    "ridgerror"
   ]
  },
  {
   "cell_type": "markdown",
   "id": "9efface1",
   "metadata": {
    "papermill": {
     "duration": 0.060233,
     "end_time": "2021-07-17T14:30:47.177910",
     "exception": false,
     "start_time": "2021-07-17T14:30:47.117677",
     "status": "completed"
    },
    "tags": []
   },
   "source": [
    "## Lasso Regression Model"
   ]
  },
  {
   "cell_type": "code",
   "execution_count": 17,
   "id": "0dce8893",
   "metadata": {
    "execution": {
     "iopub.execute_input": "2021-07-17T14:30:47.284428Z",
     "iopub.status.busy": "2021-07-17T14:30:47.283700Z",
     "iopub.status.idle": "2021-07-17T14:30:47.315353Z",
     "shell.execute_reply": "2021-07-17T14:30:47.315923Z",
     "shell.execute_reply.started": "2021-07-17T13:08:37.420694Z"
    },
    "papermill": {
     "duration": 0.088943,
     "end_time": "2021-07-17T14:30:47.316148",
     "exception": false,
     "start_time": "2021-07-17T14:30:47.227205",
     "status": "completed"
    },
    "tags": []
   },
   "outputs": [
    {
     "data": {
      "text/plain": [
       "7.071584874715117"
      ]
     },
     "execution_count": 17,
     "metadata": {},
     "output_type": "execute_result"
    }
   ],
   "source": [
    "from sklearn.linear_model import Lasso\n",
    "lassor=Lasso(alpha=1,normalize=True)\n",
    "lassor.fit(x_train,y_train)\n",
    "predictionl=lassor.predict(x_test)\n",
    "lassoerror=mean_squared_error(y_test,predictionl,squared=False)\n",
    "lassoerror"
   ]
  },
  {
   "cell_type": "markdown",
   "id": "9a9d1ee2",
   "metadata": {
    "papermill": {
     "duration": 0.058988,
     "end_time": "2021-07-17T14:30:47.463461",
     "exception": false,
     "start_time": "2021-07-17T14:30:47.404473",
     "status": "completed"
    },
    "tags": []
   },
   "source": [
    "## KNN Model"
   ]
  },
  {
   "cell_type": "code",
   "execution_count": 18,
   "id": "849bbac7",
   "metadata": {
    "execution": {
     "iopub.execute_input": "2021-07-17T14:30:47.569102Z",
     "iopub.status.busy": "2021-07-17T14:30:47.568430Z",
     "iopub.status.idle": "2021-07-17T14:30:48.081380Z",
     "shell.execute_reply": "2021-07-17T14:30:48.080852Z",
     "shell.execute_reply.started": "2021-07-17T13:12:22.55651Z"
    },
    "papermill": {
     "duration": 0.568018,
     "end_time": "2021-07-17T14:30:48.081541",
     "exception": false,
     "start_time": "2021-07-17T14:30:47.513523",
     "status": "completed"
    },
    "tags": []
   },
   "outputs": [
    {
     "data": {
      "text/plain": [
       "6.865667293028155"
      ]
     },
     "execution_count": 18,
     "metadata": {},
     "output_type": "execute_result"
    }
   ],
   "source": [
    "from sklearn.neighbors import KNeighborsRegressor\n",
    "Knnmodel=KNeighborsRegressor(n_neighbors=200)\n",
    "Knnmodel.fit(x_train,y_train)\n",
    "predictionknn=Knnmodel.predict(x_test)\n",
    "knnerror=mean_squared_error(y_test,predictionknn,squared=False)\n",
    "knnerror"
   ]
  },
  {
   "cell_type": "markdown",
   "id": "eb06b5ba",
   "metadata": {
    "papermill": {
     "duration": 0.049235,
     "end_time": "2021-07-17T14:30:48.180996",
     "exception": false,
     "start_time": "2021-07-17T14:30:48.131761",
     "status": "completed"
    },
    "tags": []
   },
   "source": [
    "## SVR Model"
   ]
  },
  {
   "cell_type": "code",
   "execution_count": 19,
   "id": "c89be577",
   "metadata": {
    "execution": {
     "iopub.execute_input": "2021-07-17T14:30:48.288293Z",
     "iopub.status.busy": "2021-07-17T14:30:48.287154Z",
     "iopub.status.idle": "2021-07-17T14:31:49.817090Z",
     "shell.execute_reply": "2021-07-17T14:31:49.817613Z",
     "shell.execute_reply.started": "2021-07-17T13:20:57.803809Z"
    },
    "papermill": {
     "duration": 61.587052,
     "end_time": "2021-07-17T14:31:49.817823",
     "exception": false,
     "start_time": "2021-07-17T14:30:48.230771",
     "status": "completed"
    },
    "tags": []
   },
   "outputs": [
    {
     "data": {
      "text/plain": [
       "6.486952231603621"
      ]
     },
     "execution_count": 19,
     "metadata": {},
     "output_type": "execute_result"
    }
   ],
   "source": [
    "from sklearn.svm import SVR\n",
    "from sklearn.preprocessing import StandardScaler\n",
    "sa=StandardScaler()\n",
    "sb=StandardScaler()\n",
    "a=x_train.copy()\n",
    "b=x_test.copy()\n",
    "a=sa.fit_transform(a)\n",
    "b=sb.fit_transform(b)\n",
    "svr=SVR()\n",
    "svr.fit(a,y_train)\n",
    "predictionsvr=svr.predict(b)\n",
    "svrerror=mean_squared_error(y_test,predictionsvr,squared=False)\n",
    "svrerror"
   ]
  },
  {
   "cell_type": "markdown",
   "id": "ca0b856a",
   "metadata": {
    "papermill": {
     "duration": 0.050614,
     "end_time": "2021-07-17T14:31:49.919716",
     "exception": false,
     "start_time": "2021-07-17T14:31:49.869102",
     "status": "completed"
    },
    "tags": []
   },
   "source": [
    "## Random Forest"
   ]
  },
  {
   "cell_type": "code",
   "execution_count": 20,
   "id": "e31a7e18",
   "metadata": {
    "execution": {
     "iopub.execute_input": "2021-07-17T14:31:50.027685Z",
     "iopub.status.busy": "2021-07-17T14:31:50.027032Z",
     "iopub.status.idle": "2021-07-17T14:32:20.109139Z",
     "shell.execute_reply": "2021-07-17T14:32:20.109719Z",
     "shell.execute_reply.started": "2021-07-17T13:24:40.590392Z"
    },
    "papermill": {
     "duration": 30.139073,
     "end_time": "2021-07-17T14:32:20.109931",
     "exception": false,
     "start_time": "2021-07-17T14:31:49.970858",
     "status": "completed"
    },
    "tags": []
   },
   "outputs": [
    {
     "data": {
      "text/plain": [
       "5.705602157092391"
      ]
     },
     "execution_count": 20,
     "metadata": {},
     "output_type": "execute_result"
    }
   ],
   "source": [
    "from sklearn.ensemble import RandomForestRegressor\n",
    "randomf=RandomForestRegressor()\n",
    "randomf.fit(x_train,y_train)\n",
    "predictrandom=randomf.predict(x_test)\n",
    "randomferror=mean_squared_error(y_test,predictrandom,squared=False)\n",
    "randomferror"
   ]
  },
  {
   "cell_type": "markdown",
   "id": "3c8a9d0d",
   "metadata": {
    "papermill": {
     "duration": 0.051129,
     "end_time": "2021-07-17T14:32:20.212664",
     "exception": false,
     "start_time": "2021-07-17T14:32:20.161535",
     "status": "completed"
    },
    "tags": []
   },
   "source": [
    "## LGBM Model"
   ]
  },
  {
   "cell_type": "code",
   "execution_count": 21,
   "id": "a6b14fba",
   "metadata": {
    "execution": {
     "iopub.execute_input": "2021-07-17T14:32:20.322808Z",
     "iopub.status.busy": "2021-07-17T14:32:20.322070Z",
     "iopub.status.idle": "2021-07-17T14:32:21.803524Z",
     "shell.execute_reply": "2021-07-17T14:32:21.804422Z",
     "shell.execute_reply.started": "2021-07-17T13:26:23.688016Z"
    },
    "papermill": {
     "duration": 1.540079,
     "end_time": "2021-07-17T14:32:21.804662",
     "exception": false,
     "start_time": "2021-07-17T14:32:20.264583",
     "status": "completed"
    },
    "tags": []
   },
   "outputs": [
    {
     "data": {
      "text/html": [
       "<style type='text/css'>\n",
       ".datatable table.frame { margin-bottom: 0; }\n",
       ".datatable table.frame thead { border-bottom: none; }\n",
       ".datatable table.frame tr.coltypes td {  color: #FFFFFF;  line-height: 6px;  padding: 0 0.5em;}\n",
       ".datatable .bool    { background: #DDDD99; }\n",
       ".datatable .object  { background: #565656; }\n",
       ".datatable .int     { background: #5D9E5D; }\n",
       ".datatable .float   { background: #4040CC; }\n",
       ".datatable .str     { background: #CC4040; }\n",
       ".datatable .time    { background: #40CC40; }\n",
       ".datatable .row_index {  background: var(--jp-border-color3);  border-right: 1px solid var(--jp-border-color0);  color: var(--jp-ui-font-color3);  font-size: 9px;}\n",
       ".datatable .frame tbody td { text-align: left; }\n",
       ".datatable .frame tr.coltypes .row_index {  background: var(--jp-border-color0);}\n",
       ".datatable th:nth-child(2) { padding-left: 12px; }\n",
       ".datatable .hellipsis {  color: var(--jp-cell-editor-border-color);}\n",
       ".datatable .vellipsis {  background: var(--jp-layout-color0);  color: var(--jp-cell-editor-border-color);}\n",
       ".datatable .na {  color: var(--jp-cell-editor-border-color);  font-size: 80%;}\n",
       ".datatable .sp {  opacity: 0.25;}\n",
       ".datatable .footer { font-size: 9px; }\n",
       ".datatable .frame_dimensions {  background: var(--jp-border-color3);  border-top: 1px solid var(--jp-border-color0);  color: var(--jp-ui-font-color3);  display: inline-block;  opacity: 0.6;  padding: 1px 10px 1px 5px;}\n",
       "</style>\n"
      ],
      "text/plain": [
       "<IPython.core.display.HTML object>"
      ]
     },
     "metadata": {},
     "output_type": "display_data"
    },
    {
     "data": {
      "text/plain": [
       "5.822986171161175"
      ]
     },
     "execution_count": 21,
     "metadata": {},
     "output_type": "execute_result"
    }
   ],
   "source": [
    "from lightgbm import LGBMRegressor\n",
    "lgbm=LGBMRegressor()\n",
    "lgbm.fit(x_train,y_train)\n",
    "predictlgbm=lgbm.predict(x_test)\n",
    "lgbmerror=mean_squared_error(y_test,predictlgbm,squared=False)\n",
    "lgbmerror"
   ]
  },
  {
   "cell_type": "markdown",
   "id": "4c073691",
   "metadata": {
    "papermill": {
     "duration": 0.052566,
     "end_time": "2021-07-17T14:32:21.910943",
     "exception": false,
     "start_time": "2021-07-17T14:32:21.858377",
     "status": "completed"
    },
    "tags": []
   },
   "source": [
    "## NBM Model"
   ]
  },
  {
   "cell_type": "code",
   "execution_count": 22,
   "id": "128e6218",
   "metadata": {
    "execution": {
     "iopub.execute_input": "2021-07-17T14:32:22.023979Z",
     "iopub.status.busy": "2021-07-17T14:32:22.023241Z",
     "iopub.status.idle": "2021-07-17T14:32:22.102776Z",
     "shell.execute_reply": "2021-07-17T14:32:22.103647Z",
     "shell.execute_reply.started": "2021-07-17T13:30:15.987175Z"
    },
    "papermill": {
     "duration": 0.140512,
     "end_time": "2021-07-17T14:32:22.103945",
     "exception": false,
     "start_time": "2021-07-17T14:32:21.963433",
     "status": "completed"
    },
    "tags": []
   },
   "outputs": [
    {
     "data": {
      "text/plain": [
       "6.77462061962708"
      ]
     },
     "execution_count": 22,
     "metadata": {},
     "output_type": "execute_result"
    }
   ],
   "source": [
    "from sklearn.linear_model import BayesianRidge\n",
    "b_ridge=BayesianRidge()\n",
    "b_ridge.fit(x_train,y_train)\n",
    "predictb_ridge=b_ridge.predict(x_test)\n",
    "b_ridge_error=mean_squared_error(y_test,predictb_ridge,squared=False)\n",
    "b_ridge_error"
   ]
  },
  {
   "cell_type": "markdown",
   "id": "a4cfbee0",
   "metadata": {
    "papermill": {
     "duration": 0.058531,
     "end_time": "2021-07-17T14:32:22.256797",
     "exception": false,
     "start_time": "2021-07-17T14:32:22.198266",
     "status": "completed"
    },
    "tags": []
   },
   "source": [
    "## ONE HOT ENCODING"
   ]
  },
  {
   "cell_type": "code",
   "execution_count": 23,
   "id": "9cb3d364",
   "metadata": {
    "execution": {
     "iopub.execute_input": "2021-07-17T14:32:22.373594Z",
     "iopub.status.busy": "2021-07-17T14:32:22.372870Z",
     "iopub.status.idle": "2021-07-17T14:32:22.393677Z",
     "shell.execute_reply": "2021-07-17T14:32:22.392986Z",
     "shell.execute_reply.started": "2021-07-17T13:40:16.470672Z"
    },
    "papermill": {
     "duration": 0.083655,
     "end_time": "2021-07-17T14:32:22.393825",
     "exception": false,
     "start_time": "2021-07-17T14:32:22.310170",
     "status": "completed"
    },
    "tags": []
   },
   "outputs": [],
   "source": [
    "from sklearn.preprocessing import OneHotEncoder\n",
    "x= (data.dtypes == \"object\")\n",
    "columns=list(x[x].index)\n",
    "OHE=OneHotEncoder(handle_unknown=\"ignore\",sparse=False)\n",
    "OH_columns = pd.DataFrame(OHE.fit_transform(data[columns]))\n",
    "OH_columns.index = data.index\n",
    "num_data = data.drop(columns, axis=1)\n",
    "OH = pd.concat([num_data, OH_columns], axis=1)\n",
    "OH.head()\n",
    "y=OH.TAXI_OUT\n",
    "x=OH.drop(['TAXI_OUT'], axis =1)"
   ]
  },
  {
   "cell_type": "code",
   "execution_count": 24,
   "id": "654ecd13",
   "metadata": {
    "execution": {
     "iopub.execute_input": "2021-07-17T14:32:22.505360Z",
     "iopub.status.busy": "2021-07-17T14:32:22.504406Z",
     "iopub.status.idle": "2021-07-17T14:32:22.513506Z",
     "shell.execute_reply": "2021-07-17T14:32:22.513964Z",
     "shell.execute_reply.started": "2021-07-17T13:44:06.089815Z"
    },
    "papermill": {
     "duration": 0.068229,
     "end_time": "2021-07-17T14:32:22.514135",
     "exception": false,
     "start_time": "2021-07-17T14:32:22.445906",
     "status": "completed"
    },
    "tags": []
   },
   "outputs": [],
   "source": [
    "from sklearn.model_selection import train_test_split\n",
    "x_train,x_test,y_train,y_test=train_test_split(x,y,test_size=0.10)"
   ]
  },
  {
   "cell_type": "markdown",
   "id": "537d1f36",
   "metadata": {
    "papermill": {
     "duration": 0.052074,
     "end_time": "2021-07-17T14:32:22.618573",
     "exception": false,
     "start_time": "2021-07-17T14:32:22.566499",
     "status": "completed"
    },
    "tags": []
   },
   "source": [
    "## Linear Regression"
   ]
  },
  {
   "cell_type": "code",
   "execution_count": 25,
   "id": "11cabc8e",
   "metadata": {
    "execution": {
     "iopub.execute_input": "2021-07-17T14:32:22.727341Z",
     "iopub.status.busy": "2021-07-17T14:32:22.726361Z",
     "iopub.status.idle": "2021-07-17T14:32:22.759229Z",
     "shell.execute_reply": "2021-07-17T14:32:22.760123Z",
     "shell.execute_reply.started": "2021-07-17T13:44:07.879958Z"
    },
    "papermill": {
     "duration": 0.089213,
     "end_time": "2021-07-17T14:32:22.760397",
     "exception": false,
     "start_time": "2021-07-17T14:32:22.671184",
     "status": "completed"
    },
    "tags": []
   },
   "outputs": [
    {
     "data": {
      "text/plain": [
       "6.608527162924415"
      ]
     },
     "execution_count": 25,
     "metadata": {},
     "output_type": "execute_result"
    }
   ],
   "source": [
    "linrOHE=LinearRegression()\n",
    "linrOHE.fit(x_train,y_train)\n",
    "predict1=linrOHE.predict(x_test)\n",
    "linrOHE_error=mean_squared_error(y_test,predict1,squared=False)\n",
    "linrOHE_error"
   ]
  },
  {
   "cell_type": "markdown",
   "id": "5ee95d6a",
   "metadata": {
    "papermill": {
     "duration": 0.056316,
     "end_time": "2021-07-17T14:32:22.911664",
     "exception": false,
     "start_time": "2021-07-17T14:32:22.855348",
     "status": "completed"
    },
    "tags": []
   },
   "source": [
    "## Ridge Regression"
   ]
  },
  {
   "cell_type": "code",
   "execution_count": 26,
   "id": "e82f8d65",
   "metadata": {
    "execution": {
     "iopub.execute_input": "2021-07-17T14:32:23.024351Z",
     "iopub.status.busy": "2021-07-17T14:32:23.023627Z",
     "iopub.status.idle": "2021-07-17T14:32:23.042503Z",
     "shell.execute_reply": "2021-07-17T14:32:23.043263Z",
     "shell.execute_reply.started": "2021-07-17T13:47:42.028266Z"
    },
    "papermill": {
     "duration": 0.079881,
     "end_time": "2021-07-17T14:32:23.043631",
     "exception": false,
     "start_time": "2021-07-17T14:32:22.963750",
     "status": "completed"
    },
    "tags": []
   },
   "outputs": [
    {
     "data": {
      "text/plain": [
       "6.687620203769801"
      ]
     },
     "execution_count": 26,
     "metadata": {},
     "output_type": "execute_result"
    }
   ],
   "source": [
    "ridgerOHE=Ridge(alpha=1,normalize=True)\n",
    "ridgerOHE.fit(x_train,y_train)\n",
    "predict2=ridgerOHE.predict(x_test)\n",
    "ridgerOHE_error=mean_squared_error(y_test,predict2,squared=False)\n",
    "ridgerOHE_error"
   ]
  },
  {
   "cell_type": "markdown",
   "id": "a38fc491",
   "metadata": {
    "papermill": {
     "duration": 0.059075,
     "end_time": "2021-07-17T14:32:23.199178",
     "exception": false,
     "start_time": "2021-07-17T14:32:23.140103",
     "status": "completed"
    },
    "tags": []
   },
   "source": [
    "## Lasso regression Model"
   ]
  },
  {
   "cell_type": "code",
   "execution_count": 27,
   "id": "5c5e6730",
   "metadata": {
    "execution": {
     "iopub.execute_input": "2021-07-17T14:32:23.313343Z",
     "iopub.status.busy": "2021-07-17T14:32:23.312624Z",
     "iopub.status.idle": "2021-07-17T14:32:23.340057Z",
     "shell.execute_reply": "2021-07-17T14:32:23.340930Z",
     "shell.execute_reply.started": "2021-07-17T13:49:36.701091Z"
    },
    "papermill": {
     "duration": 0.089106,
     "end_time": "2021-07-17T14:32:23.341212",
     "exception": false,
     "start_time": "2021-07-17T14:32:23.252106",
     "status": "completed"
    },
    "tags": []
   },
   "outputs": [
    {
     "data": {
      "text/plain": [
       "6.886443171916816"
      ]
     },
     "execution_count": 27,
     "metadata": {},
     "output_type": "execute_result"
    }
   ],
   "source": [
    "lassorOHE=Lasso(alpha=1,normalize=True)\n",
    "lassorOHE.fit(x_train,y_train)\n",
    "predict3=lassorOHE.predict(x_test)\n",
    "lassorOHE_error=mean_squared_error(y_test,predict3,squared=False)\n",
    "lassorOHE_error"
   ]
  },
  {
   "cell_type": "markdown",
   "id": "8367db81",
   "metadata": {
    "papermill": {
     "duration": 0.056908,
     "end_time": "2021-07-17T14:32:23.491257",
     "exception": false,
     "start_time": "2021-07-17T14:32:23.434349",
     "status": "completed"
    },
    "tags": []
   },
   "source": [
    "## KNN Model"
   ]
  },
  {
   "cell_type": "code",
   "execution_count": 28,
   "id": "2946af41",
   "metadata": {
    "execution": {
     "iopub.execute_input": "2021-07-17T14:32:23.604520Z",
     "iopub.status.busy": "2021-07-17T14:32:23.603813Z",
     "iopub.status.idle": "2021-07-17T14:32:24.093067Z",
     "shell.execute_reply": "2021-07-17T14:32:24.092388Z",
     "shell.execute_reply.started": "2021-07-17T13:54:21.556403Z"
    },
    "papermill": {
     "duration": 0.54966,
     "end_time": "2021-07-17T14:32:24.093220",
     "exception": false,
     "start_time": "2021-07-17T14:32:23.543560",
     "status": "completed"
    },
    "tags": []
   },
   "outputs": [
    {
     "data": {
      "text/plain": [
       "6.66809617256833"
      ]
     },
     "execution_count": 28,
     "metadata": {},
     "output_type": "execute_result"
    }
   ],
   "source": [
    "knnOHE=KNeighborsRegressor(n_neighbors=200)\n",
    "knnOHE.fit(x_train,y_train)\n",
    "predict4=knnOHE.predict(x_test)\n",
    "knnOHE_error=mean_squared_error(y_test,predict4,squared=False)\n",
    "knnOHE_error"
   ]
  },
  {
   "cell_type": "markdown",
   "id": "e71296a0",
   "metadata": {
    "papermill": {
     "duration": 0.052797,
     "end_time": "2021-07-17T14:32:24.199161",
     "exception": false,
     "start_time": "2021-07-17T14:32:24.146364",
     "status": "completed"
    },
    "tags": []
   },
   "source": [
    "## SVR Model"
   ]
  },
  {
   "cell_type": "code",
   "execution_count": 29,
   "id": "c788c5e2",
   "metadata": {
    "execution": {
     "iopub.execute_input": "2021-07-17T14:32:24.311726Z",
     "iopub.status.busy": "2021-07-17T14:32:24.311081Z",
     "iopub.status.idle": "2021-07-17T14:33:25.605110Z",
     "shell.execute_reply": "2021-07-17T14:33:25.605652Z",
     "shell.execute_reply.started": "2021-07-17T13:56:48.285381Z"
    },
    "papermill": {
     "duration": 61.353779,
     "end_time": "2021-07-17T14:33:25.605861",
     "exception": false,
     "start_time": "2021-07-17T14:32:24.252082",
     "status": "completed"
    },
    "tags": []
   },
   "outputs": [
    {
     "data": {
      "text/plain": [
       "6.3280678026667365"
      ]
     },
     "execution_count": 29,
     "metadata": {},
     "output_type": "execute_result"
    }
   ],
   "source": [
    "saOHE=StandardScaler()\n",
    "sbOHE=StandardScaler()\n",
    "aOHE=x_train.copy()\n",
    "bOHE=x_test.copy()\n",
    "aOHE=sa.fit_transform(aOHE)\n",
    "bOHE=sb.fit_transform(bOHE)\n",
    "svrOHE=SVR()\n",
    "svrOHE.fit(aOHE,y_train)\n",
    "predict5=svrOHE.predict(bOHE)\n",
    "svrerror_OHE=mean_squared_error(y_test,predict5,squared=False)\n",
    "svrerror_OHE"
   ]
  },
  {
   "cell_type": "markdown",
   "id": "f9e94c89",
   "metadata": {
    "papermill": {
     "duration": 0.05365,
     "end_time": "2021-07-17T14:33:25.717685",
     "exception": false,
     "start_time": "2021-07-17T14:33:25.664035",
     "status": "completed"
    },
    "tags": []
   },
   "source": [
    "## Random Forest"
   ]
  },
  {
   "cell_type": "code",
   "execution_count": 30,
   "id": "6e6b50b9",
   "metadata": {
    "execution": {
     "iopub.execute_input": "2021-07-17T14:33:25.833007Z",
     "iopub.status.busy": "2021-07-17T14:33:25.832354Z",
     "iopub.status.idle": "2021-07-17T14:33:55.991169Z",
     "shell.execute_reply": "2021-07-17T14:33:55.991689Z",
     "shell.execute_reply.started": "2021-07-17T13:58:10.029183Z"
    },
    "papermill": {
     "duration": 30.220154,
     "end_time": "2021-07-17T14:33:55.991868",
     "exception": false,
     "start_time": "2021-07-17T14:33:25.771714",
     "status": "completed"
    },
    "tags": []
   },
   "outputs": [
    {
     "data": {
      "text/plain": [
       "2.6858123075824594"
      ]
     },
     "execution_count": 30,
     "metadata": {},
     "output_type": "execute_result"
    }
   ],
   "source": [
    "randomfOHE=RandomForestRegressor()\n",
    "randomfOHE.fit(x_train,y_train)\n",
    "predict6=randomf.predict(x_test)\n",
    "randomfOHE_error=mean_squared_error(y_test,predict6,squared=False)\n",
    "randomfOHE_error"
   ]
  },
  {
   "cell_type": "markdown",
   "id": "a19db3e7",
   "metadata": {
    "papermill": {
     "duration": 0.054495,
     "end_time": "2021-07-17T14:33:56.100449",
     "exception": false,
     "start_time": "2021-07-17T14:33:56.045954",
     "status": "completed"
    },
    "tags": []
   },
   "source": [
    "## LGBM Model"
   ]
  },
  {
   "cell_type": "code",
   "execution_count": 31,
   "id": "7ecc35ba",
   "metadata": {
    "execution": {
     "iopub.execute_input": "2021-07-17T14:33:56.213502Z",
     "iopub.status.busy": "2021-07-17T14:33:56.212842Z",
     "iopub.status.idle": "2021-07-17T14:33:56.576162Z",
     "shell.execute_reply": "2021-07-17T14:33:56.577048Z",
     "shell.execute_reply.started": "2021-07-17T13:59:35.473867Z"
    },
    "papermill": {
     "duration": 0.423537,
     "end_time": "2021-07-17T14:33:56.577251",
     "exception": false,
     "start_time": "2021-07-17T14:33:56.153714",
     "status": "completed"
    },
    "tags": []
   },
   "outputs": [
    {
     "data": {
      "text/plain": [
       "5.416311072497516"
      ]
     },
     "execution_count": 31,
     "metadata": {},
     "output_type": "execute_result"
    }
   ],
   "source": [
    "lgbmOHE=LGBMRegressor()\n",
    "lgbmOHE.fit(x_train,y_train)\n",
    "predict7=lgbm.predict(x_test)\n",
    "lgbmOHE_error=mean_squared_error(y_test,predict7,squared=False)\n",
    "lgbmOHE_error"
   ]
  },
  {
   "cell_type": "markdown",
   "id": "be5f8f75",
   "metadata": {
    "papermill": {
     "duration": 0.053377,
     "end_time": "2021-07-17T14:33:56.685957",
     "exception": false,
     "start_time": "2021-07-17T14:33:56.632580",
     "status": "completed"
    },
    "tags": []
   },
   "source": [
    "## NBR Model"
   ]
  },
  {
   "cell_type": "code",
   "execution_count": 32,
   "id": "3c4da2b3",
   "metadata": {
    "execution": {
     "iopub.execute_input": "2021-07-17T14:33:56.801060Z",
     "iopub.status.busy": "2021-07-17T14:33:56.800433Z",
     "iopub.status.idle": "2021-07-17T14:33:56.960358Z",
     "shell.execute_reply": "2021-07-17T14:33:56.959536Z",
     "shell.execute_reply.started": "2021-07-17T14:03:05.982637Z"
    },
    "papermill": {
     "duration": 0.221059,
     "end_time": "2021-07-17T14:33:56.960576",
     "exception": false,
     "start_time": "2021-07-17T14:33:56.739517",
     "status": "completed"
    },
    "tags": []
   },
   "outputs": [
    {
     "data": {
      "text/plain": [
       "6.604770209844841"
      ]
     },
     "execution_count": 32,
     "metadata": {},
     "output_type": "execute_result"
    }
   ],
   "source": [
    "b_ridgeOHE=BayesianRidge()\n",
    "b_ridgeOHE.fit(x_train,y_train)\n",
    "predict8=b_ridge.predict(x_test)\n",
    "b_ridgeOHE_error=mean_squared_error(y_test,predict8,squared=False)\n",
    "b_ridgeOHE_error"
   ]
  },
  {
   "cell_type": "markdown",
   "id": "e0fd6b7e",
   "metadata": {
    "papermill": {
     "duration": 0.058298,
     "end_time": "2021-07-17T14:33:57.118704",
     "exception": false,
     "start_time": "2021-07-17T14:33:57.060406",
     "status": "completed"
    },
    "tags": []
   },
   "source": [
    "## Comparision"
   ]
  },
  {
   "cell_type": "code",
   "execution_count": 33,
   "id": "43939505",
   "metadata": {
    "execution": {
     "iopub.execute_input": "2021-07-17T14:33:57.251990Z",
     "iopub.status.busy": "2021-07-17T14:33:57.243390Z",
     "iopub.status.idle": "2021-07-17T14:33:57.442570Z",
     "shell.execute_reply": "2021-07-17T14:33:57.443068Z",
     "shell.execute_reply.started": "2021-07-17T14:13:27.177332Z"
    },
    "papermill": {
     "duration": 0.26968,
     "end_time": "2021-07-17T14:33:57.443260",
     "exception": false,
     "start_time": "2021-07-17T14:33:57.173580",
     "status": "completed"
    },
    "tags": []
   },
   "outputs": [
    {
     "data": {
      "text/plain": [
       "<function matplotlib.pyplot.show(close=None, block=None)>"
      ]
     },
     "execution_count": 33,
     "metadata": {},
     "output_type": "execute_result"
    },
    {
     "data": {
      "image/png": "[encoded data removed]",
      "text/plain": [
       "<Figure size 432x288 with 1 Axes>"
      ]
     },
     "metadata": {},
     "output_type": "display_data"
    }
   ],
   "source": [
    "from matplotlib import style\n",
    "graph1=np.array([linerror,ridgerror,lassoerror,knnerror,svrerror,b_ridge_error,lgbmerror,randomferror])\n",
    "graph2=np.array([linrOHE_error,ridgerOHE_error,lassorOHE_error,knnOHE_error,svrerror_OHE,b_ridgeOHE_error,lgbmOHE_error,randomfOHE_error])\n",
    "style.use(\"ggplot\")\n",
    "plt.plot([\"linr\",\"Ridger\",\"Lassor\",\"KNNmodel\",\"SVR\",\"NB\",\"LGBM\",\"RandomF\"],graph1,\"g\",label=\"label encoding\",linewidth=2)\n",
    "plt.plot([\"linr\",\"Ridger\",\"Lassor\",\"KNNmodel\",\"SVR\",\"NB\",\"LGBM\",\"RandomF\"],graph2,\"y\",label=\"one hot encoding\",linewidth=2)\n",
    "plt.title(\"Comparison\")\n",
    "plt.xlabel(\"models\")\n",
    "plt.ylabel(\"RMS Error\")\n",
    "plt.legend() \n",
    "plt.grid(True,color=\"k\")\n",
    "plt.show"
   ]
  },
  {
   "cell_type": "code",
   "execution_count": null,
   "id": "c79ca3dd",
   "metadata": {
    "papermill": {
     "duration": 0.05658,
     "end_time": "2021-07-17T14:33:57.556397",
     "exception": false,
     "start_time": "2021-07-17T14:33:57.499817",
     "status": "completed"
    },
    "tags": []
   },
   "outputs": [],
   "source": []
  }
 ],
 "metadata": {
  "kernelspec": {
   "display_name": "Python 3",
   "language": "python",
   "name": "python3"
  },
  "language_info": {
   "codemirror_mode": {
    "name": "ipython",
    "version": 3
   },
   "file_extension": ".py",
   "mimetype": "text/x-python",
   "name": "python",
   "nbconvert_exporter": "python",
   "pygments_lexer": "ipython3",
   "version": "3.7.10"
  },
  "papermill": {
   "default_parameters": {},
   "duration": 206.943571,
   "end_time": "2021-07-17T14:33:59.089062",
   "environment_variables": {},
   "exception": null,
   "input_path": "__notebook__.ipynb",
   "output_path": "__notebook__.ipynb",
   "parameters": {},
   "start_time": "2021-07-17T14:30:32.145491",
   "version": "2.3.3"
  }
 },
 "nbformat": 4,
 "nbformat_minor": 5
}
